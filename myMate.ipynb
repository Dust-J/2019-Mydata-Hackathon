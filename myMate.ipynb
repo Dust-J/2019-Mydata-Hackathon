{
 "cells": [
  {
   "cell_type": "code",
   "execution_count": 1,
   "metadata": {},
   "outputs": [],
   "source": [
    "import pandas as pd"
   ]
  },
  {
   "cell_type": "code",
   "execution_count": 2,
   "metadata": {},
   "outputs": [
    {
     "name": "stdout",
     "output_type": "stream",
     "text": [
      "이용일자    datetime64[ns]\n",
      "가맹점명            object\n",
      "사업번호             int64\n",
      "분야              object\n",
      "이용금액             int32\n",
      "dtype: object\n"
     ]
    },
    {
     "data": {
      "text/html": [
       "<div>\n",
       "<style scoped>\n",
       "    .dataframe tbody tr th:only-of-type {\n",
       "        vertical-align: middle;\n",
       "    }\n",
       "\n",
       "    .dataframe tbody tr th {\n",
       "        vertical-align: top;\n",
       "    }\n",
       "\n",
       "    .dataframe thead th {\n",
       "        text-align: right;\n",
       "    }\n",
       "</style>\n",
       "<table border=\"1\" class=\"dataframe\">\n",
       "  <thead>\n",
       "    <tr style=\"text-align: right;\">\n",
       "      <th></th>\n",
       "      <th>이용일자</th>\n",
       "      <th>가맹점명</th>\n",
       "      <th>사업번호</th>\n",
       "      <th>분야</th>\n",
       "      <th>이용금액</th>\n",
       "    </tr>\n",
       "  </thead>\n",
       "  <tbody>\n",
       "    <tr>\n",
       "      <th>0</th>\n",
       "      <td>2019-10-07</td>\n",
       "      <td>소오밥</td>\n",
       "      <td>2833600389</td>\n",
       "      <td>요식</td>\n",
       "      <td>6500</td>\n",
       "    </tr>\n",
       "    <tr>\n",
       "      <th>1</th>\n",
       "      <td>2019-10-07</td>\n",
       "      <td>이화여자대학교생활</td>\n",
       "      <td>1108208789</td>\n",
       "      <td>쇼핑/유통</td>\n",
       "      <td>2700</td>\n",
       "    </tr>\n",
       "    <tr>\n",
       "      <th>2</th>\n",
       "      <td>2019-10-06</td>\n",
       "      <td>봉구스밥버거이대점</td>\n",
       "      <td>5171000375</td>\n",
       "      <td>요식</td>\n",
       "      <td>11000</td>\n",
       "    </tr>\n",
       "    <tr>\n",
       "      <th>3</th>\n",
       "      <td>2019-10-06</td>\n",
       "      <td>베브릿지이화여대점</td>\n",
       "      <td>2440401228</td>\n",
       "      <td>요식</td>\n",
       "      <td>4000</td>\n",
       "    </tr>\n",
       "    <tr>\n",
       "      <th>4</th>\n",
       "      <td>2019-10-04</td>\n",
       "      <td>씨유이화SK텔레콤관점</td>\n",
       "      <td>5363100352</td>\n",
       "      <td>쇼핑/유통</td>\n",
       "      <td>3900</td>\n",
       "    </tr>\n",
       "  </tbody>\n",
       "</table>\n",
       "</div>"
      ],
      "text/plain": [
       "        이용일자         가맹점명        사업번호     분야   이용금액\n",
       "0 2019-10-07          소오밥  2833600389     요식   6500\n",
       "1 2019-10-07    이화여자대학교생활  1108208789  쇼핑/유통   2700\n",
       "2 2019-10-06    봉구스밥버거이대점  5171000375     요식  11000\n",
       "3 2019-10-06    베브릿지이화여대점  2440401228     요식   4000\n",
       "4 2019-10-04  씨유이화SK텔레콤관점  5363100352  쇼핑/유통   3900"
      ]
     },
     "execution_count": 2,
     "metadata": {},
     "output_type": "execute_result"
    }
   ],
   "source": [
    "df1 = pd.read_csv('hyundai.csv') #, index_col=0)\n",
    "df1['이용일자'] = df1['이용일자'].apply(pd.to_datetime)\n",
    "#pd.to_datetime(df1['이용일자'].dt.strftime('%Y-%m-%d')) #, infer_datetime_format=True)\n",
    "\n",
    "df1['이용금액'] = df1['이용금액'].map(lambda x: x.replace(',', '')).astype(int)\n",
    "\n",
    "df1.infer_objects()\n",
    "print(df1.dtypes)\n",
    "\n",
    "df1.head()"
   ]
  },
  {
   "cell_type": "code",
   "execution_count": 3,
   "metadata": {},
   "outputs": [],
   "source": [
    "#df1 = df1.reset_index()"
   ]
  },
  {
   "cell_type": "code",
   "execution_count": 4,
   "metadata": {},
   "outputs": [
    {
     "name": "stdout",
     "output_type": "stream",
     "text": [
      "이용일자    datetime64[ns]\n",
      "가맹점명            object\n",
      "사업번호             int64\n",
      "분야              object\n",
      "이용금액             int32\n",
      "dtype: object\n"
     ]
    },
    {
     "data": {
      "text/html": [
       "<div>\n",
       "<style scoped>\n",
       "    .dataframe tbody tr th:only-of-type {\n",
       "        vertical-align: middle;\n",
       "    }\n",
       "\n",
       "    .dataframe tbody tr th {\n",
       "        vertical-align: top;\n",
       "    }\n",
       "\n",
       "    .dataframe thead th {\n",
       "        text-align: right;\n",
       "    }\n",
       "</style>\n",
       "<table border=\"1\" class=\"dataframe\">\n",
       "  <thead>\n",
       "    <tr style=\"text-align: right;\">\n",
       "      <th></th>\n",
       "      <th>이용일자</th>\n",
       "      <th>가맹점명</th>\n",
       "      <th>사업번호</th>\n",
       "      <th>분야</th>\n",
       "      <th>이용금액</th>\n",
       "    </tr>\n",
       "  </thead>\n",
       "  <tbody>\n",
       "    <tr>\n",
       "      <th>0</th>\n",
       "      <td>2019-10-11 13:33:57</td>\n",
       "      <td>티머니택시（개인</td>\n",
       "      <td>1048183559</td>\n",
       "      <td>기타</td>\n",
       "      <td>6900</td>\n",
       "    </tr>\n",
       "    <tr>\n",
       "      <th>1</th>\n",
       "      <td>2019-10-08 19:14:33</td>\n",
       "      <td>（주）인터파크＿</td>\n",
       "      <td>2148798889</td>\n",
       "      <td>문화/오락/레져</td>\n",
       "      <td>30000</td>\n",
       "    </tr>\n",
       "    <tr>\n",
       "      <th>2</th>\n",
       "      <td>2019-10-08 19:10:14</td>\n",
       "      <td>（주）인터파크＿</td>\n",
       "      <td>2148798889</td>\n",
       "      <td>문화/오락/레져</td>\n",
       "      <td>3000</td>\n",
       "    </tr>\n",
       "    <tr>\n",
       "      <th>3</th>\n",
       "      <td>2019-10-08 17:41:47</td>\n",
       "      <td>케익갤러리</td>\n",
       "      <td>2041944392</td>\n",
       "      <td>요식</td>\n",
       "      <td>10500</td>\n",
       "    </tr>\n",
       "    <tr>\n",
       "      <th>4</th>\n",
       "      <td>2019-10-05 10:55:57</td>\n",
       "      <td>커피브레이크</td>\n",
       "      <td>4950901215</td>\n",
       "      <td>요식</td>\n",
       "      <td>4200</td>\n",
       "    </tr>\n",
       "  </tbody>\n",
       "</table>\n",
       "</div>"
      ],
      "text/plain": [
       "                 이용일자      가맹점명        사업번호        분야   이용금액\n",
       "0 2019-10-11 13:33:57  티머니택시（개인  1048183559        기타   6900\n",
       "1 2019-10-08 19:14:33  （주）인터파크＿  2148798889  문화/오락/레져  30000\n",
       "2 2019-10-08 19:10:14  （주）인터파크＿  2148798889  문화/오락/레져   3000\n",
       "3 2019-10-08 17:41:47     케익갤러리  2041944392        요식  10500\n",
       "4 2019-10-05 10:55:57    커피브레이크  4950901215        요식   4200"
      ]
     },
     "execution_count": 4,
     "metadata": {},
     "output_type": "execute_result"
    }
   ],
   "source": [
    "df2 = pd.read_csv('woori.csv')\n",
    "\n",
    "df2['이용일자'] = df2['이용일자'].apply(lambda x: '2019.' + x).apply(pd.to_datetime)\n",
    "#pd.to_datetime(df1['이용일자'], infer_datetime_format=True)\n",
    "\n",
    "df2['이용금액'] = df2['이용금액'].map(lambda x: x.replace(',', '')).astype(int)\n",
    "\n",
    "df2.infer_objects()\n",
    "print(df2.dtypes)\n",
    "\n",
    "df2.head()"
   ]
  },
  {
   "cell_type": "code",
   "execution_count": null,
   "metadata": {},
   "outputs": [],
   "source": []
  },
  {
   "cell_type": "code",
   "execution_count": 5,
   "metadata": {},
   "outputs": [
    {
     "name": "stdout",
     "output_type": "stream",
     "text": [
      "소액(<5000)으로 소비한 횟수:\t291회, 51.6%\n",
      "주말에 소비한 횟수:\t\t47회, 8.3%\n"
     ]
    }
   ],
   "source": [
    "small=df1[df1['이용금액'] < 5000].index.tolist()\n",
    "weekend=df1[df1['이용일자'].dt.dayofweek > 5].index.tolist()\n",
    "\n",
    "print('소액(<5000)으로 소비한 횟수:\\t%d회, %.1f%%' %(len(small), len(small)/len(df1)*100))\n",
    "print('주말에 소비한 횟수:\\t\\t%d회, %.1f%%' %(len(weekend), len(weekend)/len(df1)*100))"
   ]
  },
  {
   "cell_type": "code",
   "execution_count": 6,
   "metadata": {},
   "outputs": [
    {
     "name": "stdout",
     "output_type": "stream",
     "text": [
      "쇼핑/유통 193\n",
      "문화/오락/레져 25\n",
      "기타 53\n",
      "요식 289\n",
      "의료(병/의원) 4\n"
     ]
    }
   ],
   "source": [
    "category = list(set(df1['분야']))\n",
    "category_num, category_num2 = [len(df1[df1['분야'] == i]) for i in category], [len(df2[df2['분야'] == i]) for i in category]\n",
    "for i in range(len(category)):\n",
    "    print(category[i], category_num[i])"
   ]
  },
  {
   "cell_type": "code",
   "execution_count": 7,
   "metadata": {},
   "outputs": [],
   "source": [
    "%matplotlib inline"
   ]
  },
  {
   "cell_type": "code",
   "execution_count": 8,
   "metadata": {},
   "outputs": [
    {
     "data": {
      "image/png": "[encoded data removed]",
      "text/plain": [
       "<Figure size 432x288 with 1 Axes>"
      ]
     },
     "metadata": {},
     "output_type": "display_data"
    }
   ],
   "source": [
    "import matplotlib.pyplot as plt\n",
    "from math import pi\n",
    "\n",
    "from matplotlib import font_manager, rc\n",
    "font_name = font_manager.FontProperties(fname=\"c:/Windows/Fonts/malgun.ttf\").get_name()\n",
    "rc('font', family=font_name)\n",
    "\n",
    "\n",
    "N = len(category)\n",
    "\n",
    "angles = [n / float(N) * 2 * pi for n in range(N)]\n",
    "angles += angles[:1]\n",
    "\n",
    "ax = plt.subplot(111, polar=True)\n",
    "\n",
    "ax.set_theta_offset(pi / 2)\n",
    "ax.set_theta_direction(-1)\n",
    "\n",
    "plt.xticks(angles[:-1], set(df1['분야']))\n",
    "\n",
    "ax.set_rlabel_position(0)\n",
    "plt.yticks([10,20,30,50], [\"10\",\"20\",\"30\",\"50\"], color=\"grey\", size=10)\n",
    "plt.ylim(0,55)\n",
    "\n",
    "values=[x/len(df1)*100 for x in category_num]\n",
    "values += values[:1]\n",
    "\n",
    "ax.plot(angles, values, linewidth=1, linestyle='solid', label=\"현대카드\")\n",
    "ax.fill(angles, values, 'b', alpha=0.1)\n",
    "\n",
    "values2=[x/len(df2)*100 for x in category_num2]\n",
    "values2 += values2[:1]\n",
    "\n",
    "ax.plot(angles, values2, linewidth=1, linestyle='solid', label=\"우리카드\")\n",
    "ax.fill(angles, values2, 'r', alpha=0.1)\n",
    "\n",
    "\n",
    "plt.legend(loc='best')#, bbox_to_anchor=(0.1, 0.1))\n",
    "\n",
    "gridlines = ax.yaxis.get_gridlines()\n",
    "for gl in gridlines:\n",
    "    gl.get_path()._interpolation_steps = 5\n",
    "    \n",
    "#ax.spines\n",
    "ax.spines['polar'].set_visible(False)"
   ]
  },
  {
   "cell_type": "code",
   "execution_count": 9,
   "metadata": {},
   "outputs": [
    {
     "data": {
      "image/png": "[encoded data removed]",
      "text/plain": [
       "<Figure size 432x432 with 1 Axes>"
      ]
     },
     "metadata": {},
     "output_type": "display_data"
    }
   ],
   "source": [
    "import numpy as np\n",
    "\n",
    "import matplotlib.pyplot as plt\n",
    "from matplotlib.patches import Circle, RegularPolygon\n",
    "from matplotlib.path import Path\n",
    "from matplotlib.projections.polar import PolarAxes\n",
    "from matplotlib.projections import register_projection\n",
    "from matplotlib.spines import Spine\n",
    "from matplotlib.transforms import Affine2D\n",
    "\n",
    "from matplotlib import font_manager, rc\n",
    "font_name = font_manager.FontProperties(fname=\"c:/Windows/Fonts/malgun.ttf\").get_name()\n",
    "rc('font', family=font_name)\n",
    "\n",
    "\n",
    "def radar_factory(num_vars, frame='circle'):\n",
    "    theta = np.linspace(0, 2*np.pi, num_vars, endpoint=False)\n",
    "\n",
    "    class RadarAxes(PolarAxes):\n",
    "\n",
    "        name = 'radar'\n",
    "\n",
    "        def __init__(self, *args, **kwargs):\n",
    "            super().__init__(*args, **kwargs)\n",
    "            self.set_theta_zero_location('N')\n",
    "\n",
    "        def fill(self, *args, closed=True, **kwargs):\n",
    "            \"\"\"Override fill so that line is closed by default\"\"\"\n",
    "            return super().fill(closed=closed, *args, **kwargs)\n",
    "\n",
    "        def plot(self, *args, **kwargs):\n",
    "            \"\"\"Override plot so that line is closed by default\"\"\"\n",
    "            lines = super().plot(*args, **kwargs)\n",
    "            for line in lines:\n",
    "                self._close_line(line)\n",
    "\n",
    "        def _close_line(self, line):\n",
    "            x, y = line.get_data()\n",
    "            if x[0] != x[-1]:\n",
    "                x = np.concatenate((x, [x[0]]))\n",
    "                y = np.concatenate((y, [y[0]]))\n",
    "                line.set_data(x, y)\n",
    "\n",
    "        def set_varlabels(self, labels):\n",
    "            self.set_thetagrids(np.degrees(theta), labels)\n",
    "\n",
    "        def _gen_axes_patch(self):\n",
    "            # The Axes patch must be centered at (0.5, 0.5) and of radius 0.5\n",
    "            # in axes coordinates.\n",
    "            if frame == 'circle':\n",
    "                return Circle((0.5, 0.5), 0.5)\n",
    "            elif frame == 'polygon':\n",
    "                return RegularPolygon((0.5, 0.5), num_vars,\n",
    "                                      radius=.5, edgecolor=\"k\")\n",
    "            else:\n",
    "                raise ValueError(\"unknown value for 'frame': %s\" % frame)\n",
    "\n",
    "        def draw(self, renderer):\n",
    "            if frame == 'polygon':\n",
    "                gridlines = self.yaxis.get_gridlines()\n",
    "                for gl in gridlines:\n",
    "                    gl.get_path()._interpolation_steps = num_vars\n",
    "            super().draw(renderer)\n",
    "\n",
    "\n",
    "        def _gen_axes_spines(self):\n",
    "            if frame == 'circle':\n",
    "                return super()._gen_axes_spines()\n",
    "            elif frame == 'polygon':\n",
    "                spine = Spine(axes=self, spine_type='circle', path=Path.unit_regular_polygon(num_vars))\n",
    "                spine.set_transform(Affine2D().scale(.5).translate(.5, .5) + self.transAxes)\n",
    "\n",
    "\n",
    "                return {'polar': spine}\n",
    "            else:\n",
    "                raise ValueError(\"unknown value for 'frame': %s\" % frame)\n",
    "\n",
    "    register_projection(RadarAxes)\n",
    "    return theta\n",
    "\n",
    "data = [category, ('분야별 분석', [values[:-1], values2[:-1]])]\n",
    "\n",
    "N = len(data[0])\n",
    "theta = radar_factory(N, frame='polygon')\n",
    "\n",
    "spoke_labels = data.pop(0)\n",
    "title, case_data = data[0]\n",
    "\n",
    "fig, ax = plt.subplots(figsize=(6, 6), subplot_kw=dict(projection='radar'))\n",
    "fig.subplots_adjust(top=0.85, bottom=0.05)\n",
    "\n",
    "ax.set_rgrids([15,30,45], color=\"grey\")\n",
    "ax.set_rlabel_position(0)\n",
    "#lt.yticks([10,20,30,50], [\"10\",\"20\",\"30\",\"50\"], color=\"grey\", size=10)\n",
    "ax.set_title(title,  position=(0.5, 1.1), ha='center')\n",
    "\n",
    "for d in case_data:\n",
    "    line = ax.plot(theta, d)\n",
    "    ax.fill(theta, d,  alpha=0.25)\n",
    "ax.set_varlabels(spoke_labels)\n",
    "\n",
    "plt.show()"
   ]
  },
  {
   "cell_type": "code",
   "execution_count": null,
   "metadata": {},
   "outputs": [],
   "source": []
  },
  {
   "cell_type": "code",
   "execution_count": null,
   "metadata": {},
   "outputs": [],
   "source": []
  }
 ],
 "metadata": {
  "kernelspec": {
   "display_name": "Python 3",
   "language": "python",
   "name": "python3"
  },
  "language_info": {
   "codemirror_mode": {
    "name": "ipython",
    "version": 3
   },
   "file_extension": ".py",
   "mimetype": "text/x-python",
   "name": "python",
   "nbconvert_exporter": "python",
   "pygments_lexer": "ipython3",
   "version": "3.7.1"
  }
 },
 "nbformat": 4,
 "nbformat_minor": 2
}
